{
 "cells": [
  {
   "cell_type": "code",
   "execution_count": 25,
   "metadata": {},
   "outputs": [],
   "source": [
    "with open(\"input.txt\", \"r\") as file:\n",
    "    lines = file.readlines()\n",
    "lines = [line.strip() for line in lines]\n",
    "row = len(lines)\n",
    "col = len(lines[0])"
   ]
  },
  {
   "cell_type": "code",
   "execution_count": 18,
   "metadata": {},
   "outputs": [
    {
     "name": "stdout",
     "output_type": "stream",
     "text": [
      "2639\n"
     ]
    }
   ],
   "source": [
    "num = 0\n",
    "for i in range(row):\n",
    "    for j in range(col):\n",
    "        val = lines[i][j]\n",
    "        if(val == 'X'):\n",
    "            #Check neighbors\n",
    "            for func in [up, down, left, right, NW, NE, SW, SE]:\n",
    "                num += int(func(i,j))\n",
    "\n",
    "print(num)"
   ]
  },
  {
   "cell_type": "code",
   "execution_count": 15,
   "metadata": {},
   "outputs": [],
   "source": [
    "def up(i,j):\n",
    "    return(i >= 3 and lines[i-1][j] == \"M\" and lines[i-2][j] == \"A\" and lines[i-3][j] == \"S\")\n",
    "\n",
    "def down(i,j):\n",
    "    return(row - i >= 4 and lines[i+1][j] == \"M\" and lines[i+2][j] == \"A\" and lines[i+3][j] == \"S\")\n",
    "\n",
    "def left(i,j):\n",
    "    return(j >= 3 and lines[i][j-1] == \"M\" and lines[i][j-2] == \"A\" and lines[i][j-3] == \"S\")\n",
    "\n",
    "def right(i,j):\n",
    "    return(col - j >= 4 and lines[i][j+1] == \"M\" and lines[i][j+2] == \"A\" and lines[i][j+3] == \"S\")\n",
    "\n",
    "\n",
    "def NW(i,j):\n",
    "    return(i >= 3 and j >= 3 and lines[i-1][j-1] == \"M\" and lines[i-2][j-2] == \"A\" and lines[i-3][j-3] == \"S\")\n",
    "\n",
    "def NE(i,j):\n",
    "    return(i >= 3 and col - j >= 4 and lines[i-1][j+1] == \"M\" and lines[i-2][j+2] == \"A\" and lines[i-3][j+3] == \"S\")\n",
    "\n",
    "def SW(i,j):\n",
    "    return(row - i >= 4 and j >= 3 and lines[i+1][j-1] == \"M\" and lines[i+2][j-2] == \"A\" and lines[i+3][j-3] == \"S\")\n",
    "\n",
    "def SE(i,j):\n",
    "    return(row - i >= 4 and col - j >= 4 and lines[i+1][j+1] == \"M\" and lines[i+2][j+2] == \"A\" and lines[i+3][j+3] == \"S\")\n"
   ]
  },
  {
   "cell_type": "code",
   "execution_count": 26,
   "metadata": {},
   "outputs": [
    {
     "name": "stdout",
     "output_type": "stream",
     "text": [
      "2005\n"
     ]
    }
   ],
   "source": [
    "#Part 2\n",
    "num = 0\n",
    "for i in range(1,row-1):\n",
    "    for j in range(1,col-1):\n",
    "        val = lines[i][j]\n",
    "        if(val == 'A'):\n",
    "            #Check neighbors\n",
    "            count = 0\n",
    "            for func in [NW1, NE1, SW1, SE1]:\n",
    "                count += int(func(i,j))\n",
    "            if(count == 2):\n",
    "                num += 1\n",
    "\n",
    "print(num)"
   ]
  },
  {
   "cell_type": "code",
   "execution_count": 23,
   "metadata": {},
   "outputs": [],
   "source": [
    "def NW1(i,j):\n",
    "    return(lines[i-1][j-1] == \"M\" and lines[i+1][j+1] == \"S\")\n",
    "\n",
    "def NE1(i,j):\n",
    "    return(lines[i+1][j-1] == \"M\" and lines[i-1][j+1] == \"S\")\n",
    "\n",
    "def SW1(i,j):\n",
    "    return(lines[i+1][j+1] == \"M\" and lines[i-1][j-1] == \"S\")\n",
    "\n",
    "def SE1(i,j):\n",
    "    return(lines[i-1][j+1] == \"M\" and lines[i+1][j-1] == \"S\")"
   ]
  }
 ],
 "metadata": {
  "kernelspec": {
   "display_name": "base",
   "language": "python",
   "name": "python3"
  },
  "language_info": {
   "codemirror_mode": {
    "name": "ipython",
    "version": 3
   },
   "file_extension": ".py",
   "mimetype": "text/x-python",
   "name": "python",
   "nbconvert_exporter": "python",
   "pygments_lexer": "ipython3",
   "version": "3.8.8"
  }
 },
 "nbformat": 4,
 "nbformat_minor": 2
}
