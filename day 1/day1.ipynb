{
 "cells": [
  {
   "cell_type": "code",
   "execution_count": 35,
   "metadata": {},
   "outputs": [],
   "source": [
    "with open(\"input.txt\", \"r\") as file:\n",
    "    lines = file.readlines()\n",
    "\n",
    "lines = [line.strip() for line in lines]\n",
    "data = [line.split(\"   \") for line in lines]\n"
   ]
  },
  {
   "cell_type": "code",
   "execution_count": 36,
   "metadata": {},
   "outputs": [
    {
     "data": {
      "text/plain": [
       "1941353"
      ]
     },
     "execution_count": 36,
     "metadata": {},
     "output_type": "execute_result"
    }
   ],
   "source": [
    "d1 = [int(data[i][0]) for i in range(len(data))]\n",
    "d2 = [int(data[i][1]) for i in range(len(data))]\n",
    "\n",
    "d1.sort()\n",
    "d2.sort()\n",
    "\n",
    "number = sum(abs(d2[i] - d1[i]) for i in range(len(d1)))\n",
    "number"
   ]
  },
  {
   "cell_type": "code",
   "execution_count": 39,
   "metadata": {},
   "outputs": [
    {
     "data": {
      "text/plain": [
       "22539317"
      ]
     },
     "execution_count": 39,
     "metadata": {},
     "output_type": "execute_result"
    }
   ],
   "source": [
    "map2 = {}\n",
    "number = 0\n",
    "\n",
    "d1 = [int(data[i][0]) for i in range(len(data))]\n",
    "d2 = [int(data[i][1]) for i in range(len(data))]\n",
    "\n",
    "for val in d2:\n",
    "    map2[val] = 1 if val not in map2 else map2[val] + 1\n",
    "\n",
    "for val in d1:\n",
    "    number += map2[val] * val if val in map2 else 0\n",
    "\n",
    "number\n"
   ]
  }
 ],
 "metadata": {
  "kernelspec": {
   "display_name": "base",
   "language": "python",
   "name": "python3"
  },
  "language_info": {
   "codemirror_mode": {
    "name": "ipython",
    "version": 3
   },
   "file_extension": ".py",
   "mimetype": "text/x-python",
   "name": "python",
   "nbconvert_exporter": "python",
   "pygments_lexer": "ipython3",
   "version": "3.8.8"
  }
 },
 "nbformat": 4,
 "nbformat_minor": 2
}
